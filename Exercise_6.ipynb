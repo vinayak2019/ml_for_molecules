{
  "nbformat": 4,
  "nbformat_minor": 0,
  "metadata": {
    "colab": {
      "provenance": [],
      "authorship_tag": "ABX9TyMzG9mWHg2n+QpF5mtfRk3+",
      "include_colab_link": true
    },
    "kernelspec": {
      "name": "python3",
      "display_name": "Python 3"
    },
    "language_info": {
      "name": "python"
    }
  },
  "cells": [
    {
      "cell_type": "markdown",
      "metadata": {
        "id": "view-in-github",
        "colab_type": "text"
      },
      "source": [
        "<a href=\"https://colab.research.google.com/github/vinayak2019/ml_for_molecules/blob/main/Exercise_6.ipynb\" target=\"_parent\"><img src=\"https://colab.research.google.com/assets/colab-badge.svg\" alt=\"Open In Colab\"/></a>"
      ]
    },
    {
      "cell_type": "markdown",
      "source": [
        "\n",
        "## Task\n",
        "For this task you will use the QM9 dataset with HOMO as the target value. Perform the following -\n",
        "\n",
        "1. In [Exercise_4](https://colab.research.google.com/github/vinayak2019/ml_for_molecules/blob/main/Exercise_4.ipynb) you changed the length of the input feature (the length of circular fingerprint) and the size of the hidden layers. Here, you task is to choose a input feature length and size of hidden layer. With those fixed, you and more linear and ReLU layers to the `MLPPredictor`. Does the accuracy imporve on increasing the number of Linear and ReLU layers?\n",
        "\n",
        "2. In the `MPNNPredictor` model, replace the set the readout layer from `Set2Set` to `WeightedSumAndMax`. Train the model.\n",
        "\n",
        "3. In the `MPNNPredictor` model, replace the set the gnn layer from `MPNNGNN` to `GCN`. Train the model.\n"
      ],
      "metadata": {
        "id": "dz7TrW4hKBwj"
      }
    },
    {
      "cell_type": "code",
      "execution_count": null,
      "metadata": {
        "id": "N5Cjkl_NJ_0e"
      },
      "outputs": [],
      "source": [
        "# 1. Effect of more Linear and ReLU layers"
      ]
    },
    {
      "cell_type": "markdown",
      "source": [
        "Hint: You use use the approach similar to th code `MPNN_modified` model with num_linear_layer but for the `MLPPredictor` and train the model. You can use any split and feature"
      ],
      "metadata": {
        "id": "m3Tn1ByGMCt4"
      }
    },
    {
      "cell_type": "code",
      "source": [
        "# 2. Changing the readout"
      ],
      "metadata": {
        "id": "gyqTdAZlMh4b"
      },
      "execution_count": null,
      "outputs": []
    },
    {
      "cell_type": "markdown",
      "source": [
        "Hint: You can find the readout code [here](https://github.com/awslabs/dgl-lifesci/tree/master/python/dgllife/model/readout). In the _init_ code you will replace the readout with one required and provide the necessary inputs. \n",
        "\n",
        "For instance, the WeightedSumAndMax needs in_feats. So, in the _init_ code of your new model, you will have `self.readout = WeightedSumAndMax(node_out_feats)` as node_out_feats is the output from MPNNGNN which will be the input for the readout layer.\n",
        "\n",
        "In the `forward` of WeightedSumAndMax, we see that it needs the batched graphs and node feats. So, in the `forward` of your modified model, the code will look something like `self.readout(batch_graph, node_feats)`  "
      ],
      "metadata": {
        "id": "ufh6UZ9yMl8H"
      }
    },
    {
      "cell_type": "code",
      "source": [
        "# 3. Changing GNN layer"
      ],
      "metadata": {
        "id": "Bb-aDc2LOC1h"
      },
      "execution_count": null,
      "outputs": []
    },
    {
      "cell_type": "markdown",
      "source": [
        "Hint: Use the same approach as in #2. You will find the `GCN` class [here](https://github.com/awslabs/dgl-lifesci/blob/master/python/dgllife/model/gnn/gcn.py). Look at the `_init_` and `forward` code and change the init and forward in your modified model.\n",
        "\n",
        "Note, by changing the gnn layer you will convert the model from message passing neural network to graph convolution model."
      ],
      "metadata": {
        "id": "ryddDn5dOH-7"
      }
    },
    {
      "cell_type": "code",
      "source": [],
      "metadata": {
        "id": "cn76TVAVOwkS"
      },
      "execution_count": null,
      "outputs": []
    }
  ]
}