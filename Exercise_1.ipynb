{
  "nbformat": 4,
  "nbformat_minor": 0,
  "metadata": {
    "colab": {
      "provenance": [],
      "authorship_tag": "ABX9TyMElh0xh6DLDjCFtoaL2yEj",
      "include_colab_link": true
    },
    "kernelspec": {
      "name": "python3",
      "display_name": "Python 3"
    },
    "language_info": {
      "name": "python"
    }
  },
  "cells": [
    {
      "cell_type": "markdown",
      "metadata": {
        "id": "view-in-github",
        "colab_type": "text"
      },
      "source": [
        "<a href=\"https://colab.research.google.com/github/vinayak2019/ml_for_molecules/blob/main/Exercise_1.ipynb\" target=\"_parent\"><img src=\"https://colab.research.google.com/assets/colab-badge.svg\" alt=\"Open In Colab\"/></a>"
      ]
    },
    {
      "cell_type": "markdown",
      "source": [
        "# Task\n",
        "\n",
        "Download the Binary labels of blood-brain barrier penetration dataset from moleculenet.org. To get the URL to the CSV file, you can hover over the download link and then copy the link address with right-click. Load the dataset into pandas dataframe and  - \n",
        "1. analyze distribution of the target values (p_np) in the dataset. Are they evenly distributed? \n",
        "2. analyze if the dataset contains neutral single molecules or ionic species with counter-ions\n",
        "3. create a clean dataset with molecular weight of less than 750.\n",
        "\n",
        "\n"
      ],
      "metadata": {
        "id": "AZxWOBAwH4sS"
      }
    },
    {
      "cell_type": "code",
      "execution_count": null,
      "metadata": {
        "id": "WJjUyxrXH2qz"
      },
      "outputs": [],
      "source": [
        "# import pandas\n",
        "\n",
        "\n",
        "# create a pandas dataframe\n",
        "\n",
        "\n"
      ]
    },
    {
      "cell_type": "code",
      "source": [
        "# 1. plot the distribution of target_values"
      ],
      "metadata": {
        "id": "N7eP2Qf2LUi_"
      },
      "execution_count": null,
      "outputs": []
    },
    {
      "cell_type": "code",
      "source": [
        "# 2. visualize the 2D structure."
      ],
      "metadata": {
        "id": "wRApJnvULb62"
      },
      "execution_count": null,
      "outputs": []
    },
    {
      "cell_type": "markdown",
      "source": [
        "Hint: you will need to use RDKit and convert smiles to 2D image. You can use the method discussed in the lesson on Dataset or use PandasTools from RDKit. You can find the documentation [here](https://www.rdkit.org/docs/source/rdkit.Chem.PandasTools.html)"
      ],
      "metadata": {
        "id": "sr0KM_rjLnr9"
      }
    },
    {
      "cell_type": "code",
      "source": [
        "# 3. Clean dataset with molecular weight less than 700"
      ],
      "metadata": {
        "id": "aHXU2CHHMI-Z"
      },
      "execution_count": null,
      "outputs": []
    },
    {
      "cell_type": "markdown",
      "source": [
        "Hint: compute the molecular weight using RDKit function and apply pandas filter to get the dataset.\n",
        "\n",
        "example: `df[df[\"mol_weight\"] < 700]`"
      ],
      "metadata": {
        "id": "NU-otC5EMu62"
      }
    },
    {
      "cell_type": "code",
      "source": [],
      "metadata": {
        "id": "giCJirZxNEXx"
      },
      "execution_count": null,
      "outputs": []
    }
  ]
}