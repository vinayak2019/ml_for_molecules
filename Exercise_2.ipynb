{
  "nbformat": 4,
  "nbformat_minor": 0,
  "metadata": {
    "colab": {
      "provenance": [],
      "authorship_tag": "ABX9TyOAGGKsxWkkxsm2Ohaelc9o",
      "include_colab_link": true
    },
    "kernelspec": {
      "name": "python3",
      "display_name": "Python 3"
    },
    "language_info": {
      "name": "python"
    }
  },
  "cells": [
    {
      "cell_type": "markdown",
      "metadata": {
        "id": "view-in-github",
        "colab_type": "text"
      },
      "source": [
        "<a href=\"https://colab.research.google.com/github/vinayak2019/ml_for_molecules/blob/main/Exercise_2.ipynb\" target=\"_parent\"><img src=\"https://colab.research.google.com/assets/colab-badge.svg\" alt=\"Open In Colab\"/></a>"
      ]
    },
    {
      "cell_type": "markdown",
      "source": [
        "# Task\n",
        "\n",
        "For this task you will use the BBBP dataset. Perform the following -\n",
        "\n",
        "1. split the dataset with `RandomSplitter`, `ScaffoldSplitter` and `MolecularWeightSplitter`from deepchem. You can limit the split to train-test split with 80:20 split.\n",
        "2. for the above splits, compare the distribution of the target value (p_np) in the train and test splits. Which split give the same distribution for train and test.\n",
        "3. compare the distribution of molecular weights in the splits. Which split gives the same distribution for train and test."
      ],
      "metadata": {
        "id": "hu2R0g59ZQ_u"
      }
    },
    {
      "cell_type": "code",
      "source": [
        "# 1. split the dataset."
      ],
      "metadata": {
        "id": "XGr28XfRdN6g"
      },
      "execution_count": null,
      "outputs": []
    },
    {
      "cell_type": "markdown",
      "source": [
        "Remember to install deepchem. You can set `frac_valid = 0` here."
      ],
      "metadata": {
        "id": "oA3xIZw2dT0N"
      }
    },
    {
      "cell_type": "code",
      "execution_count": null,
      "metadata": {
        "id": "-yvszM3xQt7K"
      },
      "outputs": [],
      "source": [
        "# 2. comparing the distribution of target value"
      ]
    },
    {
      "cell_type": "markdown",
      "source": [
        "Hint: You can use matplotlib or seaborn to plot. [This](https://youtu.be/hNNRVRmZO1s?t=8315) workshop video shows how to plot."
      ],
      "metadata": {
        "id": "1WgPpDeGc0Gn"
      }
    },
    {
      "cell_type": "code",
      "source": [
        "# 3. comparing the distribution of molecular weights"
      ],
      "metadata": {
        "id": "3doxVORScbbr"
      },
      "execution_count": null,
      "outputs": []
    },
    {
      "cell_type": "markdown",
      "source": [
        "Hint: Use the `ExactMolWeight` from [RDKit](https://www.rdkit.org/docs/source/rdkit.Chem.Descriptors.html) to get the molecular weight for entries in the dataset. Then plot the distribution. "
      ],
      "metadata": {
        "id": "Hqig69T-cck8"
      }
    }
  ]
}