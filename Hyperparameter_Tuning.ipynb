{
  "nbformat": 4,
  "nbformat_minor": 0,
  "metadata": {
    "colab": {
      "provenance": [],
      "authorship_tag": "ABX9TyMWibunkFykovvOS6byhEgh",
      "include_colab_link": true
    },
    "kernelspec": {
      "name": "python3",
      "display_name": "Python 3"
    },
    "language_info": {
      "name": "python"
    }
  },
  "cells": [
    {
      "cell_type": "markdown",
      "metadata": {
        "id": "view-in-github",
        "colab_type": "text"
      },
      "source": [
        "<a href=\"https://colab.research.google.com/github/vinayak2019/ml_for_molecules/blob/main/Hyperparameter_Tuning.ipynb\" target=\"_parent\"><img src=\"https://colab.research.google.com/assets/colab-badge.svg\" alt=\"Open In Colab\"/></a>"
      ]
    },
    {
      "cell_type": "markdown",
      "source": [
        "## Optimal hyperparameters\n",
        "\n",
        "The model weights are the parameters for the ML model. However, the model arguments (example: number of hidden layers, type of kernel etc) also play a role in determining the model parameters. Hence, these model arguments are called hyperparameters.\n",
        "\n",
        "One should optimize these hyperparameters too. Here, we will look at one such example using the QM9 dataset and SVR model"
      ],
      "metadata": {
        "id": "JcHdbe0-VlC0"
      }
    },
    {
      "cell_type": "code",
      "source": [
        "# install rdkit and deepchem\n",
        "! pip install rdkit\n",
        "! pip install deepchem\n",
        "\n",
        "# install Fast-ML\n",
        "! pip install fast_ml"
      ],
      "metadata": {
        "id": "rQgrtqPGVDiR"
      },
      "execution_count": null,
      "outputs": []
    },
    {
      "cell_type": "code",
      "source": [
        "# import that pandas library\n",
        "import pandas as pd\n",
        "\n",
        "# load the dataframe as CSV from URL. \n",
        "df = pd.read_csv(\"https://deepchemdata.s3-us-west-1.amazonaws.com/datasets/qm9.csv\")\n",
        "\n",
        "# we will use 5 % of the dataset for demo\n",
        "dataset = df[[\"smiles\",\"gap\"]].sample(frac=0.05)\n",
        "\n",
        "# import depechem and rdkit\n",
        "import deepchem as dc\n",
        "from rdkit import Chem\n",
        "\n",
        "# create the featurizer object\n",
        "# we will set the radius=2, size=100 as before\n",
        "featurizer = dc.feat.CircularFingerprint(size=100, radius=2)\n",
        "\n",
        "# apply to the dataset\n",
        "dataset[\"fp\"] = dataset[\"smiles\"].apply(featurizer.featurize)\n",
        "\n",
        "# the fp is an multi-dimensional array but we want to list for training\n",
        "dataset[\"fp\"] = dataset[\"fp\"].apply(lambda x: list(x[0]))\n",
        "\n",
        "\n",
        "# import the function to split into train-valid-test\n",
        "from fast_ml.model_development import train_valid_test_split\n",
        "\n",
        "# we will split the dataset as train-valid-test = 0.8:0.1:0.1\n",
        "X_train, y_train, X_valid, y_valid, \\\n",
        "X_test, y_test = train_valid_test_split(dataset[[\"fp\",\"gap\"]], target = \"gap\", train_size=0.8,\n",
        "                                        valid_size=0.1, test_size=0.1) "
      ],
      "metadata": {
        "id": "g1rkOpTLVBKc"
      },
      "execution_count": null,
      "outputs": []
    },
    {
      "cell_type": "markdown",
      "source": [
        "## Hyperparameter tuning\n",
        "\n",
        "There are python packages that do this. Here, we use [optuna](https://optuna.org/)"
      ],
      "metadata": {
        "id": "fzSR_abwWnn2"
      }
    },
    {
      "cell_type": "code",
      "source": [
        "# install optuna\n",
        "!pip install optuna"
      ],
      "metadata": {
        "id": "GvKmARLiW9hi"
      },
      "execution_count": null,
      "outputs": []
    },
    {
      "cell_type": "markdown",
      "source": [
        "The code has an objective function which can be minimized or maximized. Here, we will try to maximize the R<sup>2</sup> score. Below is the pseudo code\n",
        "\n",
        "########################\n",
        "\n",
        "1. import the libraries\n",
        "\n",
        "2. define objective function - this should involve train the model with the choose hyperparameters\n",
        "\n",
        "3. create the study object\n",
        "4. optimize\n",
        "\n"
      ],
      "metadata": {
        "id": "eUvXcCeBXJeJ"
      }
    },
    {
      "cell_type": "code",
      "source": [
        "# import the model class and optuna\n",
        "from sklearn.svm import SVR\n",
        "import optuna\n",
        "\n",
        "#create objective (essentially training)\n",
        "def objective(trial):\n",
        "  # we will have kernel, and C as the hyperparameters\n",
        "  kernel = trial.suggest_categorical(\"kernel\",[\"rbf\",\"linear\",\"poly\",\"sigmoid\"])\n",
        "  C = trial.suggest_float(\"C\",0.1,1)\n",
        "\n",
        "  # create the model and fit\n",
        "  svr = SVR(kernel=kernel, C=C)\n",
        "  model = svr.fit(X_train[\"fp\"].values.tolist(),y_train.values.tolist())\n",
        "\n",
        "  # compute the score on valid dataset\n",
        "  score = model.score(X_valid[\"fp\"].values.tolist(),y_valid.values.tolist())\n",
        "\n",
        "  return score"
      ],
      "metadata": {
        "id": "n1knBFSqVFnB"
      },
      "execution_count": null,
      "outputs": []
    },
    {
      "cell_type": "markdown",
      "source": [
        "Let's start optimization"
      ],
      "metadata": {
        "id": "5qLbFp-ApRXJ"
      }
    },
    {
      "cell_type": "code",
      "source": [
        "# create the study object\n",
        "study = optuna.create_study(direction='maximize')\n",
        "\n",
        "# run optimization\n",
        "study.optimize(objective, n_trials=10)"
      ],
      "metadata": {
        "id": "c9MpqDt4VPlr"
      },
      "execution_count": null,
      "outputs": []
    },
    {
      "cell_type": "markdown",
      "source": [
        "Getting the best model hyperparameters"
      ],
      "metadata": {
        "id": "-lot0wglq_BA"
      }
    },
    {
      "cell_type": "code",
      "source": [
        "study.best_value"
      ],
      "metadata": {
        "id": "NSF4FxkJrFjr"
      },
      "execution_count": null,
      "outputs": []
    },
    {
      "cell_type": "code",
      "source": [
        "study.best_trial.params"
      ],
      "metadata": {
        "id": "IFcKf6DqrCwd"
      },
      "execution_count": null,
      "outputs": []
    }
  ]
}