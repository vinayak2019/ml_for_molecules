{
  "nbformat": 4,
  "nbformat_minor": 0,
  "metadata": {
    "colab": {
      "provenance": []
    },
    "kernelspec": {
      "name": "python3",
      "display_name": "Python 3"
    },
    "language_info": {
      "name": "python"
    }
  },
  "cells": [
    {
      "cell_type": "markdown",
      "source": [
        "### Splitting dataset\n",
        "\n",
        "Once the dataset is cleaned up, we can create the train, validation and test splits.\n",
        "\n",
        "There are libraries available to split the dataset based on the output value, molecular weight, scaffold etc. This approach requires converting the CSV file to the library-dependent which is sometimes cumbersome. \n",
        "\n",
        "For simplicity, we will first randomly split the dataset. We will use the QM9 dataset with ```gap``` as the output (target). "
      ],
      "metadata": {
        "id": "PKSeOi9yOP5Z"
      }
    },
    {
      "cell_type": "code",
      "execution_count": null,
      "metadata": {
        "id": "ay86aAZHOKzY"
      },
      "outputs": [],
      "source": [
        "# import pandas library\n",
        "import pandas as pd\n",
        "\n",
        "# load the dataframe as CSV from URL. \n",
        "# If you upload the file to Colab, replace the URL with the file name \n",
        "df = pd.read_csv(\"https://deepchemdata.s3-us-west-1.amazonaws.com/datasets/qm9.csv\")\n",
        "\n",
        "# look at the top 5 entries\n",
        "df.head()"
      ]
    },
    {
      "cell_type": "markdown",
      "source": [
        "[Fast-ML](https://pypi.org/project/fast-ml/) package has in-built functionalities to analyze the datasets but is not Chemistry-aware. As we are randomly spiltting the dataset, we can use this package."
      ],
      "metadata": {
        "id": "FbYwlBtgRghw"
      }
    },
    {
      "cell_type": "code",
      "source": [
        "# install Fast-ML\n",
        "! pip install fast_ml"
      ],
      "metadata": {
        "id": "7Ivht6LhQpYt"
      },
      "execution_count": null,
      "outputs": []
    },
    {
      "cell_type": "code",
      "source": [
        "# import the function to split into train-valid-test\n",
        "from fast_ml.model_development import train_valid_test_split"
      ],
      "metadata": {
        "id": "SxkiKpS4SLYB"
      },
      "execution_count": null,
      "outputs": []
    },
    {
      "cell_type": "code",
      "source": [
        "# we will split the dataset as train-valid-test = 0.8:0.1:0.1\n",
        "X_train, y_train, X_valid, y_valid, \\\n",
        "X_test, y_test = train_valid_test_split(df[[\"smiles\",\"gap\"]], target = \"gap\", train_size=0.8,\n",
        "                                        valid_size=0.1, test_size=0.1) \n"
      ],
      "metadata": {
        "id": "UcsasOuJSohP"
      },
      "execution_count": null,
      "outputs": []
    },
    {
      "cell_type": "code",
      "source": [
        "X_test"
      ],
      "metadata": {
        "id": "zKG2foHzSpRP"
      },
      "execution_count": null,
      "outputs": []
    },
    {
      "cell_type": "code",
      "source": [
        "y_test"
      ],
      "metadata": {
        "id": "AVX0jkmwS_LX"
      },
      "execution_count": null,
      "outputs": []
    },
    {
      "cell_type": "markdown",
      "source": [
        "In case of more Chemistry-aware dataset splitting, pacakages like [deepchem](https://deepchem.readthedocs.io/en/latest/index.html) can be used. However, the CSV dataset must be converted into a dataset class before the splitting can be performed.\n",
        "\n",
        "Let's try splitting the dataset based on molecular weight in deepchem."
      ],
      "metadata": {
        "id": "gk6tQURrUkLp"
      }
    },
    {
      "cell_type": "code",
      "source": [
        "# install deepchem\n",
        "!pip install deepchem"
      ],
      "metadata": {
        "id": "rkLLZJRsTgHG"
      },
      "execution_count": null,
      "outputs": []
    },
    {
      "cell_type": "code",
      "source": [
        "import deepchem as dc"
      ],
      "metadata": {
        "id": "qMIq0GCpVdlr"
      },
      "execution_count": null,
      "outputs": []
    },
    {
      "cell_type": "markdown",
      "source": [
        "As the kernal restarted, we will reload the QM9 dataset."
      ],
      "metadata": {
        "id": "JeA7l1r0WTA1"
      }
    },
    {
      "cell_type": "code",
      "source": [
        "# import that pandas library\n",
        "import pandas as pd\n",
        "\n",
        "# load the dataframe as CSV from URL. \n",
        "# If you upload the file to Colab, replace the URL with the file name \n",
        "df = pd.read_csv(\"https://deepchemdata.s3-us-west-1.amazonaws.com/datasets/qm9.csv\")"
      ],
      "metadata": {
        "id": "8RVWmHU7Wb41"
      },
      "execution_count": null,
      "outputs": []
    },
    {
      "cell_type": "markdown",
      "source": [
        "We will use the ``smiles`` and ``gap`` values from the dataset as before and create the ``NumpyDataset`` object in deepchem. The documentation for dataset in deepchem can be found [here](https://deepchem.readthedocs.io/en/latest/api_reference/data.html#datasets)"
      ],
      "metadata": {
        "id": "FO0n5q9RWgQn"
      }
    },
    {
      "cell_type": "code",
      "source": [
        "# create the deepchem dataset object\n",
        "# note ids arg is necessary for splitting\n",
        "dataset = dc.data.NumpyDataset.from_dataframe(df[[\"smiles\",\"gap\"]],\n",
        "                                              X=\"smiles\",y=\"gap\", ids=\"smiles\")"
      ],
      "metadata": {
        "id": "2XcVBqK2VpE6"
      },
      "execution_count": null,
      "outputs": []
    },
    {
      "cell_type": "markdown",
      "source": [
        "One can look as the ``X`` and ``y`` values to ensure proper loading of the dataset."
      ],
      "metadata": {
        "id": "sX0Hw4gFXBmG"
      }
    },
    {
      "cell_type": "code",
      "source": [
        "dataset.y"
      ],
      "metadata": {
        "id": "awjP__kgWHWJ"
      },
      "execution_count": null,
      "outputs": []
    },
    {
      "cell_type": "code",
      "source": [
        "dataset.X"
      ],
      "metadata": {
        "id": "QWXNK4OwWM24"
      },
      "execution_count": null,
      "outputs": []
    },
    {
      "cell_type": "markdown",
      "source": [
        "We will perform molecular weight based split. More documentation on splitting methods in deepchem can be found [here](https://deepchem.readthedocs.io/en/latest/api_reference/splitters.html)"
      ],
      "metadata": {
        "id": "WhrChEK4Xkyg"
      }
    },
    {
      "cell_type": "code",
      "source": [
        "# create the molecular weight splitter object\n",
        "molecularweightsplitter = dc.splits.MolecularWeightSplitter()\n",
        "\n",
        "train_dataset, valid_dataset, test_dataset \\\n",
        " = molecularweightsplitter.train_valid_test_split(\n",
        "    dataset=dataset, frac_train = 0.8, frac_valid = 0.1,\n",
        "    frac_test = 0.1\n",
        " )"
      ],
      "metadata": {
        "id": "Iejx8njRXPXn"
      },
      "execution_count": null,
      "outputs": []
    },
    {
      "cell_type": "markdown",
      "source": [
        "We can convert the dataset objects back to pandas dataframe with ``to_dataframe`` for easy analysis, if needed."
      ],
      "metadata": {
        "id": "YfxUxmRXbfJn"
      }
    },
    {
      "cell_type": "code",
      "source": [
        "train_dataset, valid_dataset, test_dataset\\\n",
        " = train_dataset.to_dataframe(), valid_dataset.to_dataframe(),\\\n",
        "  test_dataset.to_dataframe()"
      ],
      "metadata": {
        "id": "AKSz4DovYndb"
      },
      "execution_count": null,
      "outputs": []
    },
    {
      "cell_type": "code",
      "source": [
        "test_dataset"
      ],
      "metadata": {
        "id": "K9BGaZ7Ob-pZ"
      },
      "execution_count": null,
      "outputs": []
    }
  ]
}