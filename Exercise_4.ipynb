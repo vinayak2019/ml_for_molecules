{
  "nbformat": 4,
  "nbformat_minor": 0,
  "metadata": {
    "colab": {
      "provenance": [],
      "authorship_tag": "ABX9TyN7PZOr8m473nhK9AetaK9k",
      "include_colab_link": true
    },
    "kernelspec": {
      "name": "python3",
      "display_name": "Python 3"
    },
    "language_info": {
      "name": "python"
    }
  },
  "cells": [
    {
      "cell_type": "markdown",
      "metadata": {
        "id": "view-in-github",
        "colab_type": "text"
      },
      "source": [
        "<a href=\"https://colab.research.google.com/github/vinayak2019/ml_for_molecules/blob/main/Exercise_4.ipynb\" target=\"_parent\"><img src=\"https://colab.research.google.com/assets/colab-badge.svg\" alt=\"Open In Colab\"/></a>"
      ]
    },
    {
      "cell_type": "markdown",
      "source": [
        "##Task\n",
        "\n",
        "For this task you will use the QM9 dataset with HOMO as the target value. Perform the following -\n",
        "1. split the dataset with RandomSplitter, ScaffoldSplitter and MolecularWeightSplitterfrom deepchem. You can limit the split to train-test split with 80:20 split. You can use any featurizer.\n",
        "2. for each of the above splits, compare the score on the the test dataset with `MLPPredictor` model for 30 epochs. Does the splitting method affect the model performance?\n",
        "3. for the random split dataset split, change the `hidden_feats` parameter during model creating and train the model again to 30 epochs. Does the R2 score improve with increasing the `hidden_feats`?\n",
        "4. Use the `CircularFingerprint` featurizer and split the dataset randomly. First set the size of the fingerprint to 100. Train the `MLPPredictor` model with 30 epochs. Then change the size of the fingerprints and repeat the training. You can choose the `hidden_feats` our your choice but keep it constant over different fingerprint length. Do the length of fingerprint play a role? "
      ],
      "metadata": {
        "id": "vRqYREyJzA46"
      }
    },
    {
      "cell_type": "code",
      "source": [
        "# 1. split the QM9 and featurize (any)"
      ],
      "metadata": {
        "id": "gLXqNHTW1Qk2"
      },
      "execution_count": null,
      "outputs": []
    },
    {
      "cell_type": "markdown",
      "source": [
        "Remember to install all the packages"
      ],
      "metadata": {
        "id": "XMpSlDcJ1d-4"
      }
    },
    {
      "cell_type": "code",
      "source": [
        "# 2. Use the MLPPredictor from dgl any hidden_feats value on the dataset splits"
      ],
      "metadata": {
        "id": "Ovr8CNiS1his"
      },
      "execution_count": null,
      "outputs": []
    },
    {
      "cell_type": "code",
      "source": [
        "# 3. For the random split of the dataset, change the hidden_feats value progressively.\n",
        "# Train the MLPPredictor model and compare the performance"
      ],
      "metadata": {
        "id": "GNn4uoMA2FhD"
      },
      "execution_count": 19,
      "outputs": []
    },
    {
      "cell_type": "markdown",
      "source": [
        "You can try varying hidden_feats from 64 to 10000. Let the in_feats be constant."
      ],
      "metadata": {
        "id": "FosBqnvl2laR"
      }
    },
    {
      "cell_type": "code",
      "source": [
        "# 4. Change the length of CircularFingerprints and train several model"
      ],
      "metadata": {
        "id": "ki1UpjVR2Ru3"
      },
      "execution_count": null,
      "outputs": []
    },
    {
      "cell_type": "markdown",
      "source": [
        "You can try fingerprint lengths of 32, 64, 128, 512, 1024, 2048, 4096. Have a fixed value for hidden_feats"
      ],
      "metadata": {
        "id": "n0pk2G7t2wWG"
      }
    },
    {
      "cell_type": "code",
      "source": [],
      "metadata": {
        "id": "ofyzFxXX27gT"
      },
      "execution_count": null,
      "outputs": []
    }
  ]
}