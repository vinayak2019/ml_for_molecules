{
  "nbformat": 4,
  "nbformat_minor": 0,
  "metadata": {
    "colab": {
      "provenance": [],
      "authorship_tag": "ABX9TyPr1vLXan0M+kcnWhWNOQ+5",
      "include_colab_link": true
    },
    "kernelspec": {
      "name": "python3",
      "display_name": "Python 3"
    },
    "language_info": {
      "name": "python"
    }
  },
  "cells": [
    {
      "cell_type": "markdown",
      "metadata": {
        "id": "view-in-github",
        "colab_type": "text"
      },
      "source": [
        "<a href=\"https://colab.research.google.com/github/vinayak2019/ml_for_molecules/blob/main/Graph_Neural_Networks.ipynb\" target=\"_parent\"><img src=\"https://colab.research.google.com/assets/colab-badge.svg\" alt=\"Open In Colab\"/></a>"
      ]
    },
    {
      "cell_type": "markdown",
      "source": [
        "### Training GNN\n",
        "\n",
        "We will use the same process discussed earlier. But, for featurization we will use graphs and the model will be a message passing neural network.\n",
        "\n",
        "The process of training and validating model is below --\n",
        "\n",
        "1. Clean up dataset\n",
        "2. Featurize the data\n",
        "3. Split the dataset\n",
        "4. Create ``DataLoader`` for the dataset splits\n",
        "5. Create the ML model, define loss function and optimizer\n",
        "6. ``for`` loop for epochs\n",
        "    1. ``for`` loop for training batches\n",
        "        1. Do a forward pass\n",
        "        2. Compute the loss\n",
        "        3. Do backpropogation\n",
        "    2. ``for`` loop for validation batches\n",
        "        1. Do a forward pass\n",
        "        2. Compute the loss\n",
        "    "
      ],
      "metadata": {
        "id": "lOVwv8YkB7Pd"
      }
    },
    {
      "cell_type": "markdown",
      "source": [
        "### Installing the packages"
      ],
      "metadata": {
        "id": "5658_JEJnxfS"
      }
    },
    {
      "cell_type": "code",
      "execution_count": null,
      "metadata": {
        "id": "HC4Yn8cLAaC9"
      },
      "outputs": [],
      "source": [
        "# install dgl, rdkit and fast-ml\n",
        "! pip install dgl\n",
        "! pip install dgllife\n",
        "! pip install rdkit\n",
        "! pip install fast_ml"
      ]
    },
    {
      "cell_type": "markdown",
      "source": [
        "### Dataset operations\n",
        "\n",
        "We will fetch the QM9 dataset and use HOMO-LUMO gap as the target for prediction. "
      ],
      "metadata": {
        "id": "136hy3mDHYFa"
      }
    },
    {
      "cell_type": "code",
      "source": [
        "# import pandas library\n",
        "import pandas as pd\n",
        "\n",
        "# load the dataframe as CSV from URL. \n",
        "df = pd.read_csv(\"https://deepchemdata.s3-us-west-1.amazonaws.com/datasets/qm9.csv\")\n",
        "\n",
        "# create the dataset with smiles and gap\n",
        "# we will use a 5% of the dataset to save time\n",
        "dataset = df[[\"smiles\",\"gap\"]].sample(frac=0.05)"
      ],
      "metadata": {
        "id": "_9KYkMU1FJ3r"
      },
      "execution_count": null,
      "outputs": []
    },
    {
      "cell_type": "markdown",
      "source": [
        "As we will use GNN, we need to convert the SMILES to graphs with atom and bond features. The dgl library has streamlined this process. \n",
        "\n",
        "We will use the ``CanonicalAtomFeaturizer`` for atoms features and ``CanonicalBondFeaturizer`` for bonds. More details on the features can be found [here]()"
      ],
      "metadata": {
        "id": "rs3sQHgOoh1O"
      }
    },
    {
      "cell_type": "code",
      "source": [
        "# import from rdkit and dgl-lifesci\n",
        "from rdkit import Chem\n",
        "from dgllife.utils import CanonicalAtomFeaturizer, CanonicalBondFeaturizer, \\\n",
        "mol_to_bigraph\n",
        "\n",
        "# create the atom and bond featurizer object\n",
        "atom_featurizer = CanonicalAtomFeaturizer(atom_data_field=\"hv\")\n",
        "bond_featurizer = CanonicalBondFeaturizer(bond_data_field=\"he\")"
      ],
      "metadata": {
        "id": "M05vMWS6FT0Y"
      },
      "execution_count": null,
      "outputs": []
    },
    {
      "cell_type": "markdown",
      "source": [
        "Before applying the featurizers to entire dataset, let us look at generating a graph for ethane and applying the features"
      ],
      "metadata": {
        "id": "HAlvvhCHavuo"
      }
    },
    {
      "cell_type": "code",
      "source": [
        "smiles = \"CC\"\n",
        "\n",
        "# mol_to_graph requires the RDKit molecule and featurizers\n",
        "mol = Chem.MolFromSmiles(smiles)\n",
        "graph = mol_to_bigraph(mol, node_featurizer=atom_featurizer, \n",
        "                     edge_featurizer=bond_featurizer)\n",
        "\n",
        "# display the graph object\n",
        "graph"
      ],
      "metadata": {
        "id": "ApI1TTIqavSv"
      },
      "execution_count": null,
      "outputs": []
    },
    {
      "cell_type": "markdown",
      "source": [
        "Atom features:\n",
        "* One hot encoding of the atom type\n",
        "* One hot encoding of the atom degree\n",
        "* One hot encoding of the number of implicit Hs on the atom\n",
        "* ...\n",
        "\n",
        "More details in [documentation](https://lifesci.dgl.ai/api/utils.mols.html#featurization-for-molecules.)\n",
        "\n",
        "We will create the graphs for all entries in the dataset.\n"
      ],
      "metadata": {
        "id": "WgiEcNPtcYoj"
      }
    },
    {
      "cell_type": "code",
      "source": [
        "# helper function to convert smiles to graph\n",
        "def smiles2graph(smiles):\n",
        "  mol = Chem.MolFromSmiles(smiles)\n",
        "  graph = mol_to_bigraph(mol, node_featurizer=atom_featurizer, \n",
        "                     edge_featurizer=bond_featurizer)\n",
        "  return graph"
      ],
      "metadata": {
        "id": "dyovcsnIdGt1"
      },
      "execution_count": null,
      "outputs": []
    },
    {
      "cell_type": "code",
      "source": [
        "dataset[\"graph\"] = dataset[\"smiles\"].apply(smiles2graph)"
      ],
      "metadata": {
        "id": "z-PlfX-xdY4W"
      },
      "execution_count": null,
      "outputs": []
    },
    {
      "cell_type": "markdown",
      "source": [
        "Here, we use random splitting with Fast-ML. Other splitters could also be used."
      ],
      "metadata": {
        "id": "eOhc1WzunuEV"
      }
    },
    {
      "cell_type": "code",
      "source": [
        "# import the function to split into train-valid-test\n",
        "from fast_ml.model_development import train_valid_test_split\n",
        "\n",
        "X_train, y_train, X_valid, y_valid, \\\n",
        "X_test, y_test = train_valid_test_split(dataset[[\"graph\",\"gap\"]], \n",
        "                                        target = \"gap\", \n",
        "                                        train_size=0.8,\n",
        "                                        valid_size=0.1, \n",
        "                                        test_size=0.1) "
      ],
      "metadata": {
        "id": "0Uz09CqxF-2f"
      },
      "execution_count": null,
      "outputs": []
    },
    {
      "cell_type": "markdown",
      "source": [
        "Looking a the dataset"
      ],
      "metadata": {
        "id": "BHsxYCrFiH4_"
      }
    },
    {
      "cell_type": "code",
      "source": [
        "X_test.head()"
      ],
      "metadata": {
        "id": "QsWIQCuFiLTO"
      },
      "execution_count": null,
      "outputs": []
    },
    {
      "cell_type": "markdown",
      "source": [
        "### Dataloader\n",
        "\n",
        "The ``DataLoader`` helps in creating batches, shuffling data and feeding the data into to model during training. The dataloader requires the dataset in the form (X,y) where X is the graph and y is the target.\n",
        "\n",
        "The dataloader code below does this transformation. The ``collate_data`` function is need for batching the (X,y) entries before feeding the batches into the model."
      ],
      "metadata": {
        "id": "fu7uSLoJKfjw"
      }
    },
    {
      "cell_type": "code",
      "source": [
        "import dgl\n",
        "\n",
        "def collate_data(data):\n",
        "  # our data is in the form of list of (X,y)\n",
        "  # the map function thus maps accordingly\n",
        "  graphs, y = map(list, zip(*data))\n",
        "\n",
        "  # for creating a batch of graph, we use the batch function\n",
        "  batch_graph = dgl.batch(graphs)\n",
        "\n",
        "  # we need to stack the ys for different entries in the batch\n",
        "  y = torch.stack(y, dim=0)\n",
        "\n",
        "  return batch_graph, y"
      ],
      "metadata": {
        "id": "wNAZGrMuY8yT"
      },
      "execution_count": null,
      "outputs": []
    },
    {
      "cell_type": "code",
      "source": [
        "# import dataloader\n",
        "import torch\n",
        "from torch.utils.data import DataLoader\n",
        "\n",
        "# create the dataloader for train dataset\n",
        "# dataset should be of form (X,y) according to the collate function\n",
        "# the ys should also be converted to tensors\n",
        "train_dataloader = DataLoader(\n",
        "    dataset=list(zip(X_train[\"graph\"].values.tolist(),\n",
        "                     torch.tensor(y_train.tolist(), dtype=torch.float32))),\n",
        "    batch_size=64, collate_fn=collate_data)"
      ],
      "metadata": {
        "id": "QG1Ie35wJsiE"
      },
      "execution_count": null,
      "outputs": []
    },
    {
      "cell_type": "markdown",
      "source": [
        "We can look at the first entry of the train_dataloader with -"
      ],
      "metadata": {
        "id": "7b73yfdorVEd"
      }
    },
    {
      "cell_type": "code",
      "source": [
        "train_dataloader.dataset[0]"
      ],
      "metadata": {
        "id": "1gxYN8NYL8P-"
      },
      "execution_count": null,
      "outputs": []
    },
    {
      "cell_type": "markdown",
      "source": [
        "Repeat the same for the valid_dataset and test_dataset"
      ],
      "metadata": {
        "id": "9kv-d9Y0ru8S"
      }
    },
    {
      "cell_type": "code",
      "source": [
        "valid_dataloader = DataLoader(\n",
        "    dataset=list(zip(X_valid[\"graph\"].values.tolist(),\n",
        "                     torch.tensor(y_valid.tolist(), dtype=torch.float32))),\n",
        "    batch_size=64, collate_fn=collate_data)\n",
        "\n",
        "test_dataloader = DataLoader(\n",
        "    dataset=list(zip(X_test[\"graph\"].values.tolist(),\n",
        "                     torch.tensor(y_test.tolist(), dtype=torch.float32))),\n",
        "    batch_size=64, collate_fn=collate_data)"
      ],
      "metadata": {
        "id": "CfmWl76dKpl0"
      },
      "execution_count": null,
      "outputs": []
    },
    {
      "cell_type": "markdown",
      "source": [
        "### Model, loss and optimizer\n",
        "\n",
        "Here, we will use a the MPNN model from dgl-lifesci package. List of available models can be found [here](https://lifesci.dgl.ai/api/model.zoo.html)"
      ],
      "metadata": {
        "id": "-fotYO2ZHhvi"
      }
    },
    {
      "cell_type": "code",
      "source": [
        "# import MLP model from dgl-lifesci\n",
        "from dgllife.model.model_zoo.mpnn_predictor import MPNNPredictor\n",
        "\n",
        "# the atom feature length is 74 and bond is 12\n",
        "model = MPNNPredictor(node_in_feats = 74, \n",
        "                      edge_in_feats = 12, \n",
        "                      node_out_feats = 64, \n",
        "                      edge_hidden_feats = 128,\n",
        "                      n_tasks = 1,\n",
        "                      num_step_message_passing = 6,\n",
        "                      num_step_set2set = 6,\n",
        "                      num_layer_set2set = 3)\n",
        "model"
      ],
      "metadata": {
        "id": "AhGhxXPdHQR5"
      },
      "execution_count": null,
      "outputs": []
    },
    {
      "cell_type": "markdown",
      "source": [
        "The ``MPNNPredictor`` contains a ``gnn``, ``readout`` and ``predict`` layers."
      ],
      "metadata": {
        "id": "iV_5vxbS4wz6"
      }
    },
    {
      "cell_type": "code",
      "source": [
        "# loss function for regresssion is usually mean squared error\n",
        "import torch\n",
        "\n",
        "loss_func = torch.nn.MSELoss(reduce=None)"
      ],
      "metadata": {
        "id": "rtzhleqWJHUg"
      },
      "execution_count": null,
      "outputs": []
    },
    {
      "cell_type": "markdown",
      "source": [
        "We will use the Adam optimizer for training."
      ],
      "metadata": {
        "id": "V6EGwrx15XME"
      }
    },
    {
      "cell_type": "code",
      "source": [
        "# adam optimier\n",
        "optimizer = torch.optim.Adam(model.parameters(), lr=0.001)"
      ],
      "metadata": {
        "id": "KCe6e4l4Jjft"
      },
      "execution_count": null,
      "outputs": []
    },
    {
      "cell_type": "markdown",
      "source": [
        "### Model training and validation\n",
        "\n",
        "We follow the steps in the overview"
      ],
      "metadata": {
        "id": "Ewu1-wIYMPeQ"
      }
    },
    {
      "cell_type": "code",
      "source": [
        "epochs = 5\n",
        "\n",
        "# loop over epochs\n",
        "for epoch in range(epochs):\n",
        "  print(\"\\nStarting Epoch\", epoch+1)\n",
        "\n",
        "  # set the model to train so the parameters can be updated\n",
        "  model.train()\n",
        "  # loop over training batches\n",
        "\n",
        "  train_loss = []\n",
        "  for batch in train_dataloader: \n",
        "\n",
        "    # Do a forward pass\n",
        "    batch_graph, target = batch\n",
        "\n",
        "    # look at the forward function for input\n",
        "    # this model needs graph, node_feats and edge_feats\n",
        "    node_feats = batch_graph.ndata[\"hv\"]\n",
        "    edge_feats = batch_graph.edata[\"he\"]\n",
        "    predictions = model(batch_graph, node_feats, edge_feats)\n",
        "  \n",
        "    # Compute loss\n",
        "    loss = (loss_func(predictions, target)).mean()\n",
        "    optimizer.zero_grad()\n",
        "\n",
        "    # Do back propogation and update gradient\n",
        "    loss.backward()\n",
        "    optimizer.step()\n",
        "\n",
        "    # save loss to compute average loss\n",
        "    train_loss.append(loss)\n",
        "\n",
        "  print(\"Training loss\", torch.tensor(train_loss).mean().item())\n",
        "\n",
        "\n",
        "  \n",
        "  # set the model to eval so the parameters are not updated\n",
        "  model.eval()\n",
        "  valid_loss = []\n",
        "\n",
        "  # loop over validation batches\n",
        "  with torch.no_grad():\n",
        "    for batch in valid_dataloader:\n",
        "      \n",
        "      # Do a forward pass\n",
        "      batch_graph, target = batch\n",
        "      node_feats = batch_graph.ndata[\"hv\"]\n",
        "      edge_feats = batch_graph.edata[\"he\"]\n",
        "      predictions = model(batch_graph, node_feats, edge_feats)\n",
        "    \n",
        "      # Compute loss and gradient\n",
        "      loss = (loss_func(predictions, target)).mean()\n",
        "\n",
        "      # save loss to compute average loss\n",
        "      valid_loss.append(loss)\n",
        "      \n",
        "  print(\"Validation loss \", torch.tensor(valid_loss).mean().item())\n"
      ],
      "metadata": {
        "id": "is7r-fWuKYMk"
      },
      "execution_count": null,
      "outputs": []
    },
    {
      "cell_type": "markdown",
      "source": [
        "### Testing the performance\n",
        "\n",
        "We can get a random sample from the test dataset and look at the predicted and true value"
      ],
      "metadata": {
        "id": "1vMxNdoN7GyW"
      }
    },
    {
      "cell_type": "code",
      "source": [
        "# getting a sample with idx\n",
        "idx = 100\n",
        "graph_sample = X_test[\"graph\"].iloc[idx]\n",
        "y_sample = y_test.iloc[idx]\n",
        "\n",
        "print(\"True value is \",y_sample)"
      ],
      "metadata": {
        "id": "VLPTF8QYN-tI"
      },
      "execution_count": null,
      "outputs": []
    },
    {
      "cell_type": "code",
      "source": [
        "# get the prediction\n",
        "model.eval()\n",
        "node_feats = graph_sample.ndata[\"hv\"]\n",
        "edge_feats = graph_sample.edata[\"he\"]\n",
        "model(graph_sample, node_feats, edge_feats)"
      ],
      "metadata": {
        "id": "_rwTE1NDYW8S"
      },
      "execution_count": null,
      "outputs": []
    },
    {
      "cell_type": "markdown",
      "source": [
        "Let us get prediction over the entire test dataset"
      ],
      "metadata": {
        "id": "WwKcAureNtXm"
      }
    },
    {
      "cell_type": "code",
      "source": [
        "predicted_values = []\n",
        "true_values = y_test.to_list()\n",
        "\n",
        "model.eval()\n",
        "for graph_sample in X_test[\"graph\"].tolist():\n",
        "  node_feats = graph_sample.ndata[\"hv\"]\n",
        "  edge_feats = graph_sample.edata[\"he\"]\n",
        "  prediction = model(graph_sample, node_feats, edge_feats)\n",
        "  predicted_values.append(prediction.item())"
      ],
      "metadata": {
        "id": "YiRQBhA-hHEp"
      },
      "execution_count": null,
      "outputs": []
    },
    {
      "cell_type": "markdown",
      "source": [
        "We can create a scatter plot to look at the correlation"
      ],
      "metadata": {
        "id": "cseKRc-aK1v5"
      }
    },
    {
      "cell_type": "code",
      "source": [
        "import matplotlib.pyplot as plt\n",
        "\n",
        "plt.scatter(true_values, predicted_values)"
      ],
      "metadata": {
        "id": "DpUBNWLKK2r5"
      },
      "execution_count": null,
      "outputs": []
    },
    {
      "cell_type": "markdown",
      "source": [
        "As we noted before, the model predictions are not good; predicts nearly constant value. We can also arrive at the conclusion from the R<sup>2</sup> score"
      ],
      "metadata": {
        "id": "zkc-bg-iOFWr"
      }
    },
    {
      "cell_type": "code",
      "source": [
        "from sklearn.metrics import mean_absolute_error, r2_score\n",
        "\n",
        "print(\"R2 score \", r2_score(true_values,predicted_values))\n",
        "print(\"MAE \", mean_absolute_error(true_values,predicted_values))"
      ],
      "metadata": {
        "id": "E_VCh7Qti15_"
      },
      "execution_count": null,
      "outputs": []
    },
    {
      "cell_type": "markdown",
      "source": [
        "The implementation of the MPNN model on QM9 is reported in [this](https://arxiv.org/abs/1704.01212) article."
      ],
      "metadata": {
        "id": "8TZlsnJTnxdU"
      }
    }
  ]
}