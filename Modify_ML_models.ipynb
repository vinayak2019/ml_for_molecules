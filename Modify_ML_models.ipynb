{
  "nbformat": 4,
  "nbformat_minor": 0,
  "metadata": {
    "colab": {
      "provenance": [],
      "authorship_tag": "ABX9TyMDaRDhGCnhiPZhUtVHopKv",
      "include_colab_link": true
    },
    "kernelspec": {
      "name": "python3",
      "display_name": "Python 3"
    },
    "language_info": {
      "name": "python"
    }
  },
  "cells": [
    {
      "cell_type": "markdown",
      "metadata": {
        "id": "view-in-github",
        "colab_type": "text"
      },
      "source": [
        "<a href=\"https://colab.research.google.com/github/vinayak2019/ml_for_molecules/blob/main/Modify_ML_models.ipynb\" target=\"_parent\"><img src=\"https://colab.research.google.com/assets/colab-badge.svg\" alt=\"Open In Colab\"/></a>"
      ]
    },
    {
      "cell_type": "markdown",
      "source": [
        "### Creating custom ML models\n",
        "\n",
        "So far we have used ML models available in the python packages. Here, we will look into the code for the models and see how we can tweek it to make new ML models.\n",
        "\n",
        "We will use the MPNN model from `dgl` and make changes to the model. We will test those models on a subset of the QM9 dataset as before. \n",
        "\n"
      ],
      "metadata": {
        "id": "4vvbsbiaBPpY"
      }
    },
    {
      "cell_type": "markdown",
      "source": [
        "### Installing packages and creating the dataloader"
      ],
      "metadata": {
        "id": "W242HZqnCSgW"
      }
    },
    {
      "cell_type": "code",
      "execution_count": null,
      "metadata": {
        "id": "Hnb5DmnnBAui"
      },
      "outputs": [],
      "source": [
        "# install dgl, rdkit and fast-ml\n",
        "! pip install dgl\n",
        "! pip install dgllife\n",
        "! pip install rdkit\n",
        "! pip install fast_ml"
      ]
    },
    {
      "cell_type": "code",
      "source": [
        "# import pandas library\n",
        "import pandas as pd\n",
        "\n",
        "# load the dataframe as CSV from URL. \n",
        "df = pd.read_csv(\"https://deepchemdata.s3-us-west-1.amazonaws.com/datasets/qm9.csv\")\n",
        "\n",
        "# create the dataset with smiles and gap\n",
        "# we will use a 5% of the dataset to save time\n",
        "dataset = df[[\"smiles\",\"gap\"]].sample(frac=0.05)\n",
        "\n",
        "# import from rdkit and dgl-lifesci\n",
        "from rdkit import Chem\n",
        "from dgllife.utils import CanonicalAtomFeaturizer, CanonicalBondFeaturizer, \\\n",
        "mol_to_bigraph\n",
        "\n",
        "# create the atom and bond featurizer object\n",
        "atom_featurizer = CanonicalAtomFeaturizer(atom_data_field=\"hv\")\n",
        "bond_featurizer = CanonicalBondFeaturizer(bond_data_field=\"he\")\n",
        "\n",
        "# helper function to convert smiles to graph\n",
        "def smiles2graph(smiles):\n",
        "  mol = Chem.MolFromSmiles(smiles)\n",
        "  graph = mol_to_bigraph(mol, node_featurizer=atom_featurizer, \n",
        "                     edge_featurizer=bond_featurizer)\n",
        "  return graph\n",
        "\n",
        "dataset[\"graph\"] = dataset[\"smiles\"].apply(smiles2graph)\n",
        "\n",
        "\n",
        "# import the function to split into train-valid-test\n",
        "from fast_ml.model_development import train_valid_test_split\n",
        "\n",
        "X_train, y_train, X_valid, y_valid, \\\n",
        "X_test, y_test = train_valid_test_split(dataset[[\"graph\",\"gap\"]], \n",
        "                                        target = \"gap\", \n",
        "                                        train_size=0.8,\n",
        "                                        valid_size=0.1, \n",
        "                                        test_size=0.1)\n",
        "\n",
        "# Creating dataloader\n",
        "import dgl\n",
        "\n",
        "def collate_data(data):\n",
        "  # our data is in the form of list of (X,y)\n",
        "  # the map function thus maps accordingly\n",
        "  graphs, y = map(list, zip(*data))\n",
        "\n",
        "  # for creating a batch of graph, we use the batch function\n",
        "  batch_graph = dgl.batch(graphs)\n",
        "\n",
        "  # we need to stack the ys for different entries in the batch\n",
        "  y = torch.stack(y, dim=0)\n",
        "\n",
        "  return batch_graph, y\n",
        "\n",
        "# import dataloader\n",
        "import torch\n",
        "from torch.utils.data import DataLoader\n",
        "\n",
        "# create the dataloader for train dataset\n",
        "# dataset should be of form (X,y) according to the collate function\n",
        "# the ys should also be converted to tensors\n",
        "train_dataloader = DataLoader(\n",
        "    dataset=list(zip(X_train[\"graph\"].values.tolist(),\n",
        "                     torch.tensor(y_train.tolist(), dtype=torch.float32))),\n",
        "    batch_size=64, collate_fn=collate_data)\n",
        "\n",
        "valid_dataloader = DataLoader(\n",
        "    dataset=list(zip(X_valid[\"graph\"].values.tolist(),\n",
        "                     torch.tensor(y_valid.tolist(), dtype=torch.float32))),\n",
        "    batch_size=64, collate_fn=collate_data)\n",
        "\n",
        "test_dataloader = DataLoader(\n",
        "    dataset=list(zip(X_test[\"graph\"].values.tolist(),\n",
        "                     torch.tensor(y_test.tolist(), dtype=torch.float32))),\n",
        "    batch_size=64, collate_fn=collate_data)\n",
        "\n",
        "# loss function for regresssion is usually mean squared error\n",
        "import torch\n",
        "\n",
        "loss_func = torch.nn.MSELoss(reduce=None)"
      ],
      "metadata": {
        "id": "_pIdh3HYCawB"
      },
      "execution_count": null,
      "outputs": []
    },
    {
      "cell_type": "markdown",
      "source": [
        "We will create a function to train and validate the model"
      ],
      "metadata": {
        "id": "OgYfBiefDTE0"
      }
    },
    {
      "cell_type": "code",
      "source": [
        "def run_train_valid(model, optimizer, loss_func,\n",
        "                    train_dataloader, valid_dataloader):\n",
        "\n",
        "      epochs = 1\n",
        "\n",
        "      # loop over epochs\n",
        "      for epoch in range(epochs):\n",
        "        print(\"\\nStarting Epoch\", epoch+1)\n",
        "\n",
        "        # set the model to train so the parameters can be updated\n",
        "        model.train()\n",
        "        # loop over training batches\n",
        "\n",
        "        train_loss = []\n",
        "        for batch in train_dataloader: \n",
        "\n",
        "          # Do a forward pass\n",
        "          batch_graph, target = batch\n",
        "\n",
        "          # look at the forward function for input\n",
        "          # this model needs graph, node_feats and edge_feats\n",
        "          node_feats = batch_graph.ndata[\"hv\"]\n",
        "          edge_feats = batch_graph.edata[\"he\"]\n",
        "          predictions = model(batch_graph, node_feats, edge_feats)\n",
        "        \n",
        "          # Compute loss\n",
        "          loss = (loss_func(predictions, target)).mean()\n",
        "          optimizer.zero_grad()\n",
        "\n",
        "          # Do back propogation and update gradient\n",
        "          loss.backward()\n",
        "          optimizer.step()\n",
        "\n",
        "          # save loss to compute average loss\n",
        "          train_loss.append(loss)\n",
        "\n",
        "        print(\"Training loss\", torch.tensor(train_loss).mean().item())\n",
        "\n",
        "\n",
        "        \n",
        "        # set the model to eval so the parameters are not updated\n",
        "        model.eval()\n",
        "        valid_loss = []\n",
        "\n",
        "        # loop over validation batches\n",
        "        with torch.no_grad():\n",
        "          for batch in valid_dataloader:\n",
        "            \n",
        "            # Do a forward pass\n",
        "            batch_graph, target = batch\n",
        "            node_feats = batch_graph.ndata[\"hv\"]\n",
        "            edge_feats = batch_graph.edata[\"he\"]\n",
        "            predictions = model(batch_graph, node_feats, edge_feats)\n",
        "          \n",
        "            # Compute loss and gradient\n",
        "            loss = (loss_func(predictions, target)).mean()\n",
        "\n",
        "            # save loss to compute average loss\n",
        "            valid_loss.append(loss)\n",
        "            \n",
        "        print(\"Validation loss\", torch.tensor(valid_loss).mean().item())\n"
      ],
      "metadata": {
        "id": "KqpMLMQIC4Gw"
      },
      "execution_count": null,
      "outputs": []
    },
    {
      "cell_type": "markdown",
      "source": [
        "### Training the default MPNN model"
      ],
      "metadata": {
        "id": "7l3g-AmSDtHE"
      }
    },
    {
      "cell_type": "code",
      "source": [
        "# import MLP model from dgl-lifesci\n",
        "from dgllife.model.model_zoo.mpnn_predictor import MPNNPredictor\n",
        "\n",
        "# the atom feature length is 74 and bond is 12\n",
        "model = MPNNPredictor(node_in_feats = 74, \n",
        "                      edge_in_feats = 12, \n",
        "                      node_out_feats = 64, \n",
        "                      edge_hidden_feats = 128,\n",
        "                      n_tasks = 1,\n",
        "                      num_step_message_passing = 6,\n",
        "                      num_step_set2set = 6,\n",
        "                      num_layer_set2set = 3)\n",
        "\n",
        "# adam optimier\n",
        "optimizer = torch.optim.Adam(model.parameters(), lr=0.001)\n",
        "\n",
        "# training the model\n",
        "run_train_valid(model=model, loss_func=loss_func,\n",
        "                optimizer=optimizer, train_dataloader=train_dataloader,\n",
        "                valid_dataloader=valid_dataloader)"
      ],
      "metadata": {
        "id": "IncsXBnbDyl5"
      },
      "execution_count": null,
      "outputs": []
    },
    {
      "cell_type": "markdown",
      "source": [
        "### Changing the ML init code\n",
        "\n",
        "Below is the code for the MPNNPredictor from [dgl](https://github.com/awslabs/dgl-lifesci/blob/master/python/dgllife/model/model_zoo/mpnn_predictor.py)"
      ],
      "metadata": {
        "id": "Rg8fHWLrFjEQ"
      }
    },
    {
      "cell_type": "markdown",
      "source": [
        "\n",
        "\n",
        "```\n",
        "import torch.nn as nn\n",
        "\n",
        "from dgl.nn.pytorch import Set2Set\n",
        "\n",
        "from dgllife.model.gnn import MPNNGNN\n",
        "\n",
        "class MPNNPredictor(nn.Module):\n",
        "    \"\"\"MPNN for regression and classification on graphs.\n",
        "\n",
        "    MPNN is introduced in `Neural Message Passing for Quantum Chemistry\n",
        "    <https://arxiv.org/abs/1704.01212>`__.\n",
        "\n",
        "    Parameters\n",
        "    ----------\n",
        "    node_in_feats : int\n",
        "        Size for the input node features.\n",
        "    edge_in_feats : int\n",
        "        Size for the input edge features.\n",
        "    node_out_feats : int\n",
        "        Size for the output node representations. Default to 64.\n",
        "    edge_hidden_feats : int\n",
        "        Size for the hidden edge representations. Default to 128.\n",
        "    n_tasks : int\n",
        "        Number of tasks, which is also the output size. Default to 1.\n",
        "    num_step_message_passing : int\n",
        "        Number of message passing steps. Default to 6.\n",
        "    num_step_set2set : int\n",
        "        Number of set2set steps. Default to 6.\n",
        "    num_layer_set2set : int\n",
        "        Number of set2set layers. Default to 3.\n",
        "    \"\"\"\n",
        "    def __init__(self,\n",
        "                 node_in_feats,\n",
        "                 edge_in_feats,\n",
        "                 node_out_feats=64,\n",
        "                 edge_hidden_feats=128,\n",
        "                 n_tasks=1,\n",
        "                 num_step_message_passing=6,\n",
        "                 num_step_set2set=6,\n",
        "                 num_layer_set2set=3):\n",
        "        super(MPNNPredictor, self).__init__()\n",
        "\n",
        "        self.gnn = MPNNGNN(node_in_feats=node_in_feats,\n",
        "                           node_out_feats=node_out_feats,\n",
        "                           edge_in_feats=edge_in_feats,\n",
        "                           edge_hidden_feats=edge_hidden_feats,\n",
        "                           num_step_message_passing=num_step_message_passing)\n",
        "        self.readout = Set2Set(input_dim=node_out_feats,\n",
        "                               n_iters=num_step_set2set,\n",
        "                               n_layers=num_layer_set2set)\n",
        "        self.predict = nn.Sequential(\n",
        "            nn.Linear(2 * node_out_feats, node_out_feats),\n",
        "            nn.ReLU(),\n",
        "            nn.Linear(node_out_feats, n_tasks)\n",
        "        )\n",
        "\n",
        "    def forward(self, g, node_feats, edge_feats):\n",
        "        \"\"\"Graph-level regression/soft classification.\n",
        "\n",
        "        Parameters\n",
        "        ----------\n",
        "        g : DGLGraph\n",
        "            DGLGraph for a batch of graphs.\n",
        "        node_feats : float32 tensor of shape (V, node_in_feats)\n",
        "            Input node features.\n",
        "        edge_feats : float32 tensor of shape (E, edge_in_feats)\n",
        "            Input edge features.\n",
        "\n",
        "        Returns\n",
        "        -------\n",
        "        float32 tensor of shape (G, n_tasks)\n",
        "            Prediction for the graphs in the batch. G for the number of graphs.\n",
        "        \"\"\"\n",
        "        node_feats = self.gnn(g, node_feats, edge_feats)\n",
        "        graph_feats = self.readout(g, node_feats)\n",
        "        return self.predict(graph_feats)\n",
        "```\n",
        "\n"
      ],
      "metadata": {
        "id": "BE4Q6mHaE3ND"
      }
    },
    {
      "cell_type": "markdown",
      "source": [
        "Let's say we want to add one more `Linear` layer to the *predict* with `ReLU` activation. We copy paste the entire class and make that change. \n",
        "\n",
        "We will call the model *MPNN_modified*"
      ],
      "metadata": {
        "id": "UzWvNmQNHPaF"
      }
    },
    {
      "cell_type": "code",
      "source": [
        "# add the import statements\n",
        "import torch.nn as nn\n",
        "from dgl.nn.pytorch import Set2Set\n",
        "from dgllife.model.gnn import MPNNGNN\n",
        "\n",
        "# creating the class; change the class name\n",
        "class MPNN_modified(nn.Module):\n",
        "    \n",
        "    def __init__(self,\n",
        "                 node_in_feats,\n",
        "                 edge_in_feats,\n",
        "                 node_out_feats=64,\n",
        "                 edge_hidden_feats=128,\n",
        "                 n_tasks=1,\n",
        "                 num_step_message_passing=6,\n",
        "                 num_step_set2set=6,\n",
        "                 num_layer_set2set=3):\n",
        "      \n",
        "        # don't forget to change the class name in super\n",
        "        super(MPNN_modified, self).__init__()\n",
        "\n",
        "        self.gnn = MPNNGNN(node_in_feats=node_in_feats,\n",
        "                           node_out_feats=node_out_feats,\n",
        "                           edge_in_feats=edge_in_feats,\n",
        "                           edge_hidden_feats=edge_hidden_feats,\n",
        "                           num_step_message_passing=num_step_message_passing)\n",
        "        self.readout = Set2Set(input_dim=node_out_feats,\n",
        "                               n_iters=num_step_set2set,\n",
        "                               n_layers=num_layer_set2set)\n",
        "        self.predict = nn.Sequential(\n",
        "            nn.Linear(2 * node_out_feats, node_out_feats),\n",
        "            nn.ReLU(),\n",
        "\n",
        "\n",
        "            #################################\n",
        "            # let's add a linear layer followed by ReLU\n",
        "            # the input size should match the output of previous layer\n",
        "            nn.Linear(node_out_feats, 2 * node_out_feats),\n",
        "            nn.ReLU(),\n",
        "\n",
        "            ######################################\n",
        "            nn.Linear(2 * node_out_feats, n_tasks)\n",
        "        )\n",
        "\n",
        "    # No change here as we did not change the gnn, readout or predict inputs\n",
        "    def forward(self, g, node_feats, edge_feats):\n",
        "      \n",
        "        node_feats = self.gnn(g, node_feats, edge_feats)\n",
        "        graph_feats = self.readout(g, node_feats)\n",
        "        return self.predict(graph_feats)"
      ],
      "metadata": {
        "id": "YbDMUE4PEIdY"
      },
      "execution_count": null,
      "outputs": []
    },
    {
      "cell_type": "markdown",
      "source": [
        "Now we can train this ML model. The model parameters have not changed. So, we can use the same parameters as before."
      ],
      "metadata": {
        "id": "Lorxp29rJpBU"
      }
    },
    {
      "cell_type": "code",
      "source": [
        "# the atom feature length is 74 and bond is 12\n",
        "model = MPNN_modified(node_in_feats = 74, \n",
        "                      edge_in_feats = 12, \n",
        "                      node_out_feats = 64, \n",
        "                      edge_hidden_feats = 128,\n",
        "                      n_tasks = 1,\n",
        "                      num_step_message_passing = 6,\n",
        "                      num_step_set2set = 6,\n",
        "                      num_layer_set2set = 3)\n",
        "\n",
        "# adam optimier\n",
        "optimizer = torch.optim.Adam(model.parameters(), lr=0.001)\n",
        "\n",
        "# training the model\n",
        "run_train_valid(model=model, loss_func=loss_func,\n",
        "                optimizer=optimizer, train_dataloader=train_dataloader,\n",
        "                valid_dataloader=valid_dataloader)"
      ],
      "metadata": {
        "id": "uafT-lRgJtVu"
      },
      "execution_count": null,
      "outputs": []
    },
    {
      "cell_type": "markdown",
      "source": [
        "The training code works! Suppose we wanted to control the number of linear layers added using a argument to the model, for example, *num_linear_layers*.\n",
        "\n",
        "We will do that in the following code"
      ],
      "metadata": {
        "id": "5_px-j-bKgAi"
      }
    },
    {
      "cell_type": "code",
      "source": [
        "# add the import statements\n",
        "import torch.nn as nn\n",
        "from dgl.nn.pytorch import Set2Set\n",
        "from dgllife.model.gnn import MPNNGNN\n",
        "\n",
        "# creating the class; change the class name\n",
        "class MPNN_modified(nn.Module):\n",
        "    \n",
        "    def __init__(self,\n",
        "                 node_in_feats,\n",
        "                 edge_in_feats,\n",
        "                 node_out_feats=64,\n",
        "                 edge_hidden_feats=128,\n",
        "                 n_tasks=1,\n",
        "                 num_step_message_passing=6,\n",
        "                 num_step_set2set=6,\n",
        "                 num_layer_set2set=3,\n",
        "                 # add the num_linear_layers\n",
        "                 num_linear_layers = 1\n",
        "                 ):\n",
        "      \n",
        "        # don't forget to change the class name in super\n",
        "        super(MPNN_modified, self).__init__()\n",
        "\n",
        "        self.gnn = MPNNGNN(node_in_feats=node_in_feats,\n",
        "                           node_out_feats=node_out_feats,\n",
        "                           edge_in_feats=edge_in_feats,\n",
        "                           edge_hidden_feats=edge_hidden_feats,\n",
        "                           num_step_message_passing=num_step_message_passing)\n",
        "        self.readout = Set2Set(input_dim=node_out_feats,\n",
        "                               n_iters=num_step_set2set,\n",
        "                               n_layers=num_layer_set2set)\n",
        "        \n",
        "        ######################################\n",
        "        # we can use a for loop to add desired number of layers\n",
        "        layers = []\n",
        "        for i in range(num_linear_layers):\n",
        "              layers.append(nn.Linear(node_out_feats, node_out_feats))\n",
        "              layers.append(nn.ReLU())\n",
        "\n",
        "        ######################################\n",
        "\n",
        "        self.predict = nn.Sequential(\n",
        "            nn.Linear(2 * node_out_feats, node_out_feats),\n",
        "            nn.ReLU(),\n",
        "\n",
        "            ## adding the linear layers\n",
        "            nn.Sequential(*layers),\n",
        "\n",
        "            nn.Linear(node_out_feats, n_tasks)\n",
        "        )\n",
        "\n",
        "    # No change here as we did not change the gnn, readout or predict inputs\n",
        "    def forward(self, g, node_feats, edge_feats):\n",
        "      \n",
        "        node_feats = self.gnn(g, node_feats, edge_feats)\n",
        "        graph_feats = self.readout(g, node_feats)\n",
        "        return self.predict(graph_feats)"
      ],
      "metadata": {
        "id": "cAPfKsjdJ-Tt"
      },
      "execution_count": null,
      "outputs": []
    },
    {
      "cell_type": "markdown",
      "source": [
        "Let's look at the `model.predict` with `num_linear_layers` set to 1"
      ],
      "metadata": {
        "id": "uDbcppmqMcG4"
      }
    },
    {
      "cell_type": "code",
      "source": [
        "model = MPNN_modified(node_in_feats = 74, \n",
        "                      edge_in_feats = 12, \n",
        "                      node_out_feats = 64, \n",
        "                      edge_hidden_feats = 128,\n",
        "                      n_tasks = 1,\n",
        "                      num_step_message_passing = 6,\n",
        "                      num_step_set2set = 6,\n",
        "                      num_layer_set2set = 3,\n",
        "                      num_linear_layers=1)\n",
        "model.predict\n"
      ],
      "metadata": {
        "id": "wrr5Pp8zMdsW"
      },
      "execution_count": null,
      "outputs": []
    },
    {
      "cell_type": "markdown",
      "source": [
        "Let's add 3 layers and train the model"
      ],
      "metadata": {
        "id": "Mrx3wi6jNG3H"
      }
    },
    {
      "cell_type": "code",
      "source": [
        "model = MPNN_modified(node_in_feats = 74, \n",
        "                      edge_in_feats = 12, \n",
        "                      node_out_feats = 64, \n",
        "                      edge_hidden_feats = 128,\n",
        "                      n_tasks = 1,\n",
        "                      num_step_message_passing = 6,\n",
        "                      num_step_set2set = 6,\n",
        "                      num_layer_set2set = 3,\n",
        "                      num_linear_layers=3)\n",
        "model.predict\n"
      ],
      "metadata": {
        "id": "TpIUrHSKMlxl"
      },
      "execution_count": null,
      "outputs": []
    },
    {
      "cell_type": "code",
      "source": [
        "# adam optimier\n",
        "optimizer = torch.optim.Adam(model.parameters(), lr=0.001)\n",
        "\n",
        "# training the model\n",
        "run_train_valid(model=model, loss_func=loss_func,\n",
        "                optimizer=optimizer, train_dataloader=train_dataloader,\n",
        "                valid_dataloader=valid_dataloader)"
      ],
      "metadata": {
        "id": "vy9ITZB-NN0t"
      },
      "execution_count": null,
      "outputs": []
    },
    {
      "cell_type": "markdown",
      "source": [
        "### Changes to forward function\n",
        "\n",
        "In a published [article](https://pubs.acs.org/doi/10.1021/acs.jcim.9b00237) addiding fingerprints or descriptors to the output from readout layer was found to increase the prediction accuracy"
      ],
      "metadata": {
        "id": "2LWHMFUzOkWJ"
      }
    },
    {
      "cell_type": "markdown",
      "source": [
        "![image.png](data:image/png;base64,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)"
      ],
      "metadata": {
        "id": "crvE-M44LoG2"
      }
    },
    {
      "cell_type": "markdown",
      "source": [
        "In such cases, we will need to modify the `forward` to take in the descriptors/fingerprints. Here, for sake of simplicity, we will just modify the `forward` function to multiply the output readout by a constant  "
      ],
      "metadata": {
        "id": "SiERCI31MHI8"
      }
    },
    {
      "cell_type": "code",
      "source": [
        "# add the import statements\n",
        "import torch.nn as nn\n",
        "from dgl.nn.pytorch import Set2Set\n",
        "from dgllife.model.gnn import MPNNGNN\n",
        "\n",
        "# creating the class; change the class name\n",
        "class MPNN_modified(nn.Module):\n",
        "    \n",
        "    def __init__(self,\n",
        "                 node_in_feats,\n",
        "                 edge_in_feats,\n",
        "                 node_out_feats=64,\n",
        "                 edge_hidden_feats=128,\n",
        "                 n_tasks=1,\n",
        "                 num_step_message_passing=6,\n",
        "                 num_step_set2set=6,\n",
        "                 num_layer_set2set=3,\n",
        "                 ):\n",
        "      \n",
        "        # don't forget to change the class name in super\n",
        "        super(MPNN_modified, self).__init__()\n",
        "\n",
        "        self.gnn = MPNNGNN(node_in_feats=node_in_feats,\n",
        "                           node_out_feats=node_out_feats,\n",
        "                           edge_in_feats=edge_in_feats,\n",
        "                           edge_hidden_feats=edge_hidden_feats,\n",
        "                           num_step_message_passing=num_step_message_passing)\n",
        "        self.readout = Set2Set(input_dim=node_out_feats,\n",
        "                               n_iters=num_step_set2set,\n",
        "                               n_layers=num_layer_set2set)\n",
        "\n",
        "        self.predict = nn.Sequential(\n",
        "            nn.Linear(2 * node_out_feats, node_out_feats),\n",
        "            nn.ReLU(),\n",
        "            nn.Linear(node_out_feats, n_tasks)\n",
        "        )\n",
        "\n",
        "    # take in to constant value and multiply the readout output\n",
        "    def forward(self, g, node_feats, edge_feats, constant):\n",
        "      \n",
        "        node_feats = self.gnn(g, node_feats, edge_feats)\n",
        "        graph_feats = self.readout(g, node_feats)\n",
        "        \n",
        "        #############################################\n",
        "        print(\"Old\",graph_feats,flush=True)\n",
        "\n",
        "        # do the multiplication\n",
        "        new_graph_feats = graph_feats * torch.tensor(constant)\n",
        "\n",
        "        print(\"New\",new_graph_feats,flush=True)\n",
        "\n",
        "        #################################################\n",
        "\n",
        "        return self.predict(new_graph_feats)"
      ],
      "metadata": {
        "id": "f0ywYtZ3NWnU"
      },
      "execution_count": null,
      "outputs": []
    },
    {
      "cell_type": "markdown",
      "source": [
        "Let's train this model. You will not see any changes in the model itself."
      ],
      "metadata": {
        "id": "nb0uw3-QNTkr"
      }
    },
    {
      "cell_type": "code",
      "source": [
        "model = MPNN_modified(node_in_feats = 74, \n",
        "                      edge_in_feats = 12, \n",
        "                      node_out_feats = 64, \n",
        "                      edge_hidden_feats = 128,\n",
        "                      n_tasks = 1,\n",
        "                      num_step_message_passing = 6,\n",
        "                      num_step_set2set = 6,\n",
        "                      num_layer_set2set = 3\n",
        ")\n",
        "model\n"
      ],
      "metadata": {
        "id": "oWO34mInNZjH"
      },
      "execution_count": null,
      "outputs": []
    },
    {
      "cell_type": "markdown",
      "source": [
        "We will have to change the `run_train_valid` function to include the constant as input to the model"
      ],
      "metadata": {
        "id": "CXZwi2xcNpKY"
      }
    },
    {
      "cell_type": "code",
      "source": [
        "def run_train_valid_modified(model, optimizer, loss_func,\n",
        "                    train_dataloader, valid_dataloader):\n",
        "\n",
        "      epochs = 1\n",
        "\n",
        "      # loop over epochs\n",
        "      for epoch in range(epochs):\n",
        "        print(\"\\nStarting Epoch\", epoch+1)\n",
        "\n",
        "        # set the model to train so the parameters can be updated\n",
        "        model.train()\n",
        "        # loop over training batches\n",
        "\n",
        "        train_loss = []\n",
        "        for batch in train_dataloader: \n",
        "\n",
        "          # Do a forward pass\n",
        "          batch_graph, target = batch\n",
        "\n",
        "          # look at the forward function for input\n",
        "          # this model needs graph, node_feats and edge_feats\n",
        "          node_feats = batch_graph.ndata[\"hv\"]\n",
        "          edge_feats = batch_graph.edata[\"he\"]\n",
        "\n",
        "          ###################################################\n",
        "          # adding the constant\n",
        "          predictions = model(batch_graph, node_feats, edge_feats, 10)\n",
        "          ######################################################\n",
        "\n",
        "          \n",
        "          # Compute loss\n",
        "          loss = (loss_func(predictions, target)).mean()\n",
        "          optimizer.zero_grad()\n",
        "\n",
        "          # Do back propogation and update gradient\n",
        "          loss.backward()\n",
        "          optimizer.step()\n",
        "\n",
        "          # save loss to compute average loss\n",
        "          train_loss.append(loss)\n",
        "\n",
        "        print(\"Training loss\", torch.tensor(train_loss).mean().item())\n",
        "\n",
        "\n",
        "        \n",
        "        # set the model to eval so the parameters are not updated\n",
        "        model.eval()\n",
        "        valid_loss = []\n",
        "\n",
        "        # loop over validation batches\n",
        "        with torch.no_grad():\n",
        "          for batch in valid_dataloader:\n",
        "            \n",
        "            # Do a forward pass\n",
        "            batch_graph, target = batch\n",
        "            node_feats = batch_graph.ndata[\"hv\"]\n",
        "            edge_feats = batch_graph.edata[\"he\"]\n",
        "\n",
        "            #####################################################\n",
        "            # adding the constant\n",
        "            predictions = model(batch_graph, node_feats, edge_feats, 10)\n",
        "            #######################################################\n",
        "\n",
        "            # Compute loss and gradient\n",
        "            loss = (loss_func(predictions, target)).mean()\n",
        "\n",
        "            # save loss to compute average loss\n",
        "            valid_loss.append(loss)\n",
        "            \n",
        "        print(\"Validation loss\", torch.tensor(valid_loss).mean().item())\n"
      ],
      "metadata": {
        "id": "ECWrVBCgNclF"
      },
      "execution_count": null,
      "outputs": []
    },
    {
      "cell_type": "markdown",
      "source": [
        "Finally train the model"
      ],
      "metadata": {
        "id": "H9KXWbmVOLnm"
      }
    },
    {
      "cell_type": "code",
      "source": [
        "# adam optimier\n",
        "optimizer = torch.optim.Adam(model.parameters(), lr=0.001)\n",
        "\n",
        "# training the model\n",
        "run_train_valid_modified(model=model, loss_func=loss_func,\n",
        "                optimizer=optimizer, train_dataloader=train_dataloader,\n",
        "                valid_dataloader=valid_dataloader)"
      ],
      "metadata": {
        "id": "5SpP5OWiOGcw"
      },
      "execution_count": null,
      "outputs": []
    }
  ]
}