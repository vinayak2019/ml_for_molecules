{
  "nbformat": 4,
  "nbformat_minor": 0,
  "metadata": {
    "colab": {
      "provenance": []
    },
    "kernelspec": {
      "name": "python3",
      "display_name": "Python 3"
    },
    "language_info": {
      "name": "python"
    }
  },
  "cells": [
    {
      "cell_type": "markdown",
      "source": [
        "### Training classical ML models\n",
        "\n",
        "In the QM9 dataset, all entries have the HOMO-LUMO gap which are continuous values. So, we adopt supervised learning method with regression task.\n",
        "\n",
        "The classical ML models include linear models, support vector machines, decision tress etc. A list of algorithms avialable in ``scikit-learn`` package can be found [here](https://scikit-learn.org/stable/supervised_learning.html#supervised-learning).\n",
        "\n",
        "Here, we will train some of those ML models to predict the HOMO-LUMO gap."
      ],
      "metadata": {
        "id": "4eYLcGK8GIOz"
      }
    },
    {
      "cell_type": "code",
      "execution_count": null,
      "metadata": {
        "id": "A9gvI_ElGFjA"
      },
      "outputs": [],
      "source": [
        "# import that pandas library\n",
        "import pandas as pd\n",
        "\n",
        "# load the dataframe as CSV from URL. \n",
        "df = pd.read_csv(\"https://deepchemdata.s3-us-west-1.amazonaws.com/datasets/qm9.csv\")\n",
        "\n",
        "# we will use 20% of the dataset for demo\n",
        "dataset = df[[\"smiles\",\"gap\"]].sample(frac=0.2)"
      ]
    },
    {
      "cell_type": "markdown",
      "source": [
        "### Molecular Representation\n",
        "\n",
        "We will use the molecular fingerprints as the representation for the molecules. We will use the featurizer from deepchem for this operation."
      ],
      "metadata": {
        "id": "LRZgXFUYmW0c"
      }
    },
    {
      "cell_type": "code",
      "source": [
        "# install rdkit and deepchem\n",
        "! pip install rdkit\n",
        "! pip install deepchem"
      ],
      "metadata": {
        "id": "PFJZJCqKn7WA"
      },
      "execution_count": null,
      "outputs": []
    },
    {
      "cell_type": "code",
      "source": [
        "# import depechem and rdkit\n",
        "import deepchem as dc\n",
        "from rdkit import Chem\n",
        "\n",
        "# create the featurizer object\n",
        "# we will set the radius=2, size=100 as before\n",
        "featurizer = dc.feat.CircularFingerprint(size=100, radius=2)\n",
        "\n",
        "# apply to the dataset\n",
        "dataset[\"fp\"] = dataset[\"smiles\"].apply(featurizer.featurize)\n",
        "\n",
        "# the fp is an multi-dimensional array but we want to list for training\n",
        "dataset[\"fp\"] = dataset[\"fp\"].apply(lambda x: list(x[0]))"
      ],
      "metadata": {
        "id": "AF2WlKyJUjiY"
      },
      "execution_count": null,
      "outputs": []
    },
    {
      "cell_type": "markdown",
      "source": [
        "We will use a random split of the dataset using Fast-ML"
      ],
      "metadata": {
        "id": "9qXVJJDeTmP_"
      }
    },
    {
      "cell_type": "code",
      "source": [
        "# install Fast-ML\n",
        "! pip install fast_ml"
      ],
      "metadata": {
        "id": "pQBZPHcBl5Z-"
      },
      "execution_count": null,
      "outputs": []
    },
    {
      "cell_type": "code",
      "source": [
        "# import the function to split into train-valid-test\n",
        "from fast_ml.model_development import train_valid_test_split\n",
        "\n",
        "# we will split the dataset as train-valid-test = 0.8:0.1:0.1\n",
        "X_train, y_train, X_valid, y_valid, \\\n",
        "X_test, y_test = train_valid_test_split(dataset[[\"fp\",\"gap\"]], target = \"gap\", train_size=0.8,\n",
        "                                        valid_size=0.1, test_size=0.1) \n",
        "\n",
        "# look at the dataset\n",
        "X_train"
      ],
      "metadata": {
        "id": "vlvXgND2l9YF"
      },
      "execution_count": null,
      "outputs": []
    },
    {
      "cell_type": "markdown",
      "source": [
        "### Linear regression model\n",
        "We see that the new X dataframes have additional column with fingerprint. We will use those as input for training the ML models.\n",
        "\n",
        "Let us begin with ``Linear Regression`` model. This is the least squares method. You can find more details [here](https://scikit-learn.org/stable/modules/linear_model.html#ordinary-least-squares)"
      ],
      "metadata": {
        "id": "YT5qS0vbskzb"
      }
    },
    {
      "cell_type": "code",
      "source": [
        "# import the model\n",
        "from sklearn.linear_model import LinearRegression\n",
        "\n",
        "#create the model object\n",
        "lr = LinearRegression()\n",
        "\n",
        "# fit the model with x=fp and y=gap\n",
        "model = lr.fit(X_train[\"fp\"].values.tolist(),y_train.values.tolist())"
      ],
      "metadata": {
        "id": "Qr7j5lsGsaJ4"
      },
      "execution_count": null,
      "outputs": []
    },
    {
      "cell_type": "markdown",
      "source": [
        "To check the accuracy of the linear fit, we can use the valid dataset. The ``score`` function computes the R<sup>2</sup> value. R<sup>2</sup> close to 1 is better. "
      ],
      "metadata": {
        "id": "4zLqc039xBG7"
      }
    },
    {
      "cell_type": "code",
      "source": [
        "model.score(X_valid[\"fp\"].values.tolist(),y_valid.values.tolist())"
      ],
      "metadata": {
        "id": "csrZgN_luJ-7"
      },
      "execution_count": null,
      "outputs": []
    },
    {
      "cell_type": "markdown",
      "source": [
        "Let the model predit 10 values from the test dataset"
      ],
      "metadata": {
        "id": "I9zY79Jhx8eV"
      }
    },
    {
      "cell_type": "code",
      "source": [
        "model.predict(X_test[\"fp\"].values.tolist())[:10]"
      ],
      "metadata": {
        "id": "Wprc8E_ovzap"
      },
      "execution_count": null,
      "outputs": []
    },
    {
      "cell_type": "markdown",
      "source": [
        "The corresponding HOMO-LUMO gaps in the test dataset are -"
      ],
      "metadata": {
        "id": "EIwipb0dyEW_"
      }
    },
    {
      "cell_type": "code",
      "source": [
        "y_test.values[:10]"
      ],
      "metadata": {
        "id": "TWFq73i-v923"
      },
      "execution_count": null,
      "outputs": []
    },
    {
      "cell_type": "markdown",
      "source": [
        "### Support vector machine regression (SVR) model\n",
        "\n",
        "Not much change in the code, using ``SVR`` instead of ``LinearRegression``."
      ],
      "metadata": {
        "id": "uLs8zFdAy1BT"
      }
    },
    {
      "cell_type": "code",
      "source": [
        "# import the model class\n",
        "from sklearn.svm import SVR\n",
        "\n",
        "#create the model object\n",
        "svr = SVR()\n",
        "\n",
        "# fit the model with x=fp and y=gap\n",
        "model = svr.fit(X_train[\"fp\"].values.tolist(),y_train.values.tolist())"
      ],
      "metadata": {
        "id": "2YSgPbqJwFd_"
      },
      "execution_count": null,
      "outputs": []
    },
    {
      "cell_type": "markdown",
      "source": [
        "Again computing the R<sup>2</sup>"
      ],
      "metadata": {
        "id": "gDU-XWmj0dsq"
      }
    },
    {
      "cell_type": "code",
      "source": [
        "model.score(X_valid[\"fp\"].values.tolist(),y_valid.values.tolist())"
      ],
      "metadata": {
        "id": "rY3FhIW0z1L7"
      },
      "execution_count": null,
      "outputs": []
    },
    {
      "cell_type": "markdown",
      "source": [
        "The R<sup>2</sup> is low with SVR. We can change the model parameters to see if we get any improvement. The model parameters can be found [here](https://scikit-learn.org/stable/modules/generated/sklearn.svm.SVR.html#sklearn.svm.SVR).\n",
        "\n",
        "We will change the *kernel* to *linear* and see if that helps. Default is *rbf*"
      ],
      "metadata": {
        "id": "eQRbag0Q0zzJ"
      }
    },
    {
      "cell_type": "code",
      "source": [
        "svr = SVR(kernel=\"linear\")\n",
        "model = svr.fit(X_train[\"fp\"].values.tolist(),y_train.values.tolist())\n",
        "model.score(X_valid[\"fp\"].values.tolist(),y_valid.values.tolist())"
      ],
      "metadata": {
        "id": "FB6qBkpyz51g"
      },
      "execution_count": null,
      "outputs": []
    }
  ]
}