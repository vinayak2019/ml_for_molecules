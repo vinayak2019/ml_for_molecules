{
  "nbformat": 4,
  "nbformat_minor": 0,
  "metadata": {
    "colab": {
      "provenance": [],
      "authorship_tag": "ABX9TyM23WqYBEXx6cAXk7CKNiRA",
      "include_colab_link": true
    },
    "kernelspec": {
      "name": "python3",
      "display_name": "Python 3"
    },
    "language_info": {
      "name": "python"
    }
  },
  "cells": [
    {
      "cell_type": "markdown",
      "metadata": {
        "id": "view-in-github",
        "colab_type": "text"
      },
      "source": [
        "<a href=\"https://colab.research.google.com/github/vinayak2019/ml_for_molecules/blob/main/Exercise_5.ipynb\" target=\"_parent\"><img src=\"https://colab.research.google.com/assets/colab-badge.svg\" alt=\"Open In Colab\"/></a>"
      ]
    },
    {
      "cell_type": "markdown",
      "source": [
        "## Task\n",
        "\n",
        "For this task you will use the QM9 dataset with HOMO as the target value. Perform the following -\n",
        "\n",
        "1. use the code from the GNN lesson and replace the model with the follwoing. You can find the detail in the [documentation](https://lifesci.dgl.ai/api/model.zoo.html#molecular-property-prediction)\n",
        "  1. Graph convolution network (GCNPredictor)\n",
        "  2. SchNet\n",
        "  3. Graph attention network (GATPredictor)\n",
        "\n",
        "Use the Canonical atom and bond featurizers \n"
      ],
      "metadata": {
        "id": "Idau9Ok4Vxf1"
      }
    },
    {
      "cell_type": "code",
      "source": [
        "# 1. download QM9 and split dataset, use graph featurizer "
      ],
      "metadata": {
        "id": "30ktkMaUYgN3"
      },
      "execution_count": 1,
      "outputs": []
    },
    {
      "cell_type": "code",
      "execution_count": null,
      "metadata": {
        "id": "tAXe13Z7Vu8r"
      },
      "outputs": [],
      "source": [
        "# 1a. Train GCNPredictor"
      ]
    },
    {
      "cell_type": "code",
      "source": [
        "# 1b. Train SchNet"
      ],
      "metadata": {
        "id": "fj7-R4l8YbU9"
      },
      "execution_count": null,
      "outputs": []
    },
    {
      "cell_type": "code",
      "source": [
        "# 1a. Train GATPredictor"
      ],
      "metadata": {
        "id": "Q20RU5lkYd1h"
      },
      "execution_count": null,
      "outputs": []
    }
  ]
}