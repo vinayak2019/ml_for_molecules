{
  "nbformat": 4,
  "nbformat_minor": 0,
  "metadata": {
    "colab": {
      "provenance": [],
      "authorship_tag": "ABX9TyMuM+yJ5jsy6ffBmej64GtD",
      "include_colab_link": true
    },
    "kernelspec": {
      "name": "python3",
      "display_name": "Python 3"
    },
    "language_info": {
      "name": "python"
    }
  },
  "cells": [
    {
      "cell_type": "markdown",
      "metadata": {
        "id": "view-in-github",
        "colab_type": "text"
      },
      "source": [
        "<a href=\"https://colab.research.google.com/github/vinayak2019/ml_for_molecules/blob/main/Exercise_3.ipynb\" target=\"_parent\"><img src=\"https://colab.research.google.com/assets/colab-badge.svg\" alt=\"Open In Colab\"/></a>"
      ]
    },
    {
      "cell_type": "markdown",
      "source": [
        "# Task\n",
        "\n",
        "For this task you will use the QM9 dataset with HOMO as the target value. Perform the following -\n",
        "\n",
        "1. split the dataset with `RandomSplitter`, `ScaffoldSplitter` and `MolecularWeightSplitter`from deepchem. You can limit the split to train-test split with 80:20 split.\n",
        "2. for each of the above splits, compare the score on the the test dataset with `LinearRegression` model. Does the splitting method affect the model performance?\n",
        "\n",
        "\n",
        "\n",
        "For the tasks that follow, use the BBBP dataset with p_np as the target value.\n",
        "\n",
        "3. split the dataset with `RandomSplitter`, `ScaffoldSplitter` and `MolecularWeightSplitter`from deepchem. You can limit the split to train-test split with 80:20 split.\n",
        "4. for each of the above splits, compare the score on the the test dataset with `SVC` model. Does the splitting method affect the model performance?"
      ],
      "metadata": {
        "id": "hu2R0g59ZQ_u"
      }
    },
    {
      "cell_type": "code",
      "source": [
        "# 1. split the QM9 dataset."
      ],
      "metadata": {
        "id": "XGr28XfRdN6g"
      },
      "execution_count": null,
      "outputs": []
    },
    {
      "cell_type": "markdown",
      "source": [
        "Remember to install deepchem. You can set `frac_valid = 0` here."
      ],
      "metadata": {
        "id": "oA3xIZw2dT0N"
      }
    },
    {
      "cell_type": "code",
      "execution_count": null,
      "metadata": {
        "id": "-yvszM3xQt7K"
      },
      "outputs": [],
      "source": [
        "# 2. LinearRegression model for 3 splits"
      ]
    },
    {
      "cell_type": "markdown",
      "source": [
        "Hint: You can use matplotlib or seaborn to plot. [This](https://youtu.be/hNNRVRmZO1s?t=8315) workshop video shows how to plot."
      ],
      "metadata": {
        "id": "1WgPpDeGc0Gn"
      }
    },
    {
      "cell_type": "code",
      "source": [
        "# 3. split BBBP dataset"
      ],
      "metadata": {
        "id": "3doxVORScbbr"
      },
      "execution_count": null,
      "outputs": []
    },
    {
      "cell_type": "code",
      "source": [
        "# 4. SVC model for the 3 splits"
      ],
      "metadata": {
        "id": "Uz-SG3tMhRfg"
      },
      "execution_count": null,
      "outputs": []
    },
    {
      "cell_type": "markdown",
      "source": [
        "Note, this is a classification dataset. So, we are using a classification model. "
      ],
      "metadata": {
        "id": "Hqig69T-cck8"
      }
    }
  ]
}