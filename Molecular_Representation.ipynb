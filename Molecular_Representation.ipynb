{
  "nbformat": 4,
  "nbformat_minor": 0,
  "metadata": {
    "colab": {
      "provenance": []
    },
    "kernelspec": {
      "name": "python3",
      "display_name": "Python 3"
    },
    "language_info": {
      "name": "python"
    }
  },
  "cells": [
    {
      "cell_type": "markdown",
      "source": [
        "### Featurizers\n",
        "\n",
        "There are several featurizers available in python packages like ```deepchem```. Here, we will look at some of those. A detailed documentation can be found [here](https://deepchem.readthedocs.io/en/latest/api_reference/featurizers.html)\n",
        "\n",
        "Unlike dataset splitters, we do not need to convert our dataset into a deepchem object. We apply the featurizers on the pandas dataframe. "
      ],
      "metadata": {
        "id": "MmCFRpMi3W5T"
      }
    },
    {
      "cell_type": "code",
      "execution_count": null,
      "metadata": {
        "id": "0g8bsycm3EGm"
      },
      "outputs": [],
      "source": [
        "# install deepchem and rdkit\n",
        "! pip install deepchem\n",
        "! pip install rdkit"
      ]
    },
    {
      "cell_type": "markdown",
      "source": [
        "As before, we will use the QM9 dataset with HOMO-LUMO gap as the target. We will apply the featurizer to entire dataset and then split it randomly."
      ],
      "metadata": {
        "id": "mwnfPX634ts3"
      }
    },
    {
      "cell_type": "code",
      "source": [
        "# import that pandas library\n",
        "import pandas as pd\n",
        "\n",
        "# load the dataframe as CSV from URL. \n",
        "# If you upload the file to Colab, replace the URL with the file name \n",
        "df = pd.read_csv(\"https://deepchemdata.s3-us-west-1.amazonaws.com/datasets/qm9.csv\")\n",
        "\n",
        "# create the dataset with only smiles and gap and 10% dataset\n",
        "dataset = df[[\"smiles\",\"gap\"]].sample(frac=0.1)"
      ],
      "metadata": {
        "id": "Z_uJE7ck4p1Q"
      },
      "execution_count": null,
      "outputs": []
    },
    {
      "cell_type": "markdown",
      "source": [
        "We will use ``CircularFingerprint``(Morgan fingerprint) and ``RDKitDescriptors`` featurizer from deepchem. You can look for documentation on available featurizers [here](https://deepchem.readthedocs.io/en/latest/api_reference/featurizers.html)  "
      ],
      "metadata": {
        "id": "sN8BZwFu5c1F"
      }
    },
    {
      "cell_type": "markdown",
      "source": [
        "### CircularFingerprints"
      ],
      "metadata": {
        "id": "avzcc2dx8wVJ"
      }
    },
    {
      "cell_type": "code",
      "source": [
        "# import depechem and rdkit\n",
        "import deepchem as dc\n",
        "from rdkit import Chem\n",
        "\n",
        "# create the featurizer object\n",
        "# we will set the radius=2, size=100 as before\n",
        "featurizer = dc.feat.CircularFingerprint(size=100, radius=2)"
      ],
      "metadata": {
        "id": "U3kTcEpH5EJL"
      },
      "execution_count": null,
      "outputs": []
    },
    {
      "cell_type": "markdown",
      "source": [
        "To test, we will apply the featurizer to ethane."
      ],
      "metadata": {
        "id": "ntdnnK006il4"
      }
    },
    {
      "cell_type": "code",
      "source": [
        "featurizer.featurize(\"CC\")"
      ],
      "metadata": {
        "id": "MMgDRC166eRJ"
      },
      "execution_count": null,
      "outputs": []
    },
    {
      "cell_type": "markdown",
      "source": [
        "We see that the output is an array and the code is less sophisticated than the pure RDKit implementation. We can now apply the featurizer to the dataset. This may take a while."
      ],
      "metadata": {
        "id": "lRM-sY6860Ky"
      }
    },
    {
      "cell_type": "code",
      "source": [
        "dataset[\"fp\"] = dataset[\"smiles\"].apply(featurizer.featurize)"
      ],
      "metadata": {
        "id": "NvRFwbaP6riS"
      },
      "execution_count": null,
      "outputs": []
    },
    {
      "cell_type": "code",
      "source": [
        "# looking at the top 5 entries\n",
        "dataset.head()"
      ],
      "metadata": {
        "id": "Q2BikdAS7PMY"
      },
      "execution_count": null,
      "outputs": []
    },
    {
      "cell_type": "markdown",
      "source": [
        "### RDKitDescriptors\n",
        "\n",
        "This gives a list of chemical descriptors like molecular weight, number of valence electrons, maximum and minimum partial charge, etc using RDKit. By default, the length of the list is 208.\n",
        "\n",
        "The code below shows featurizing of ethane."
      ],
      "metadata": {
        "id": "yCv0L3sk80TS"
      }
    },
    {
      "cell_type": "code",
      "source": [
        "# create the featurizer\n",
        "featurizer = dc.feat.RDKitDescriptors()\n",
        "\n",
        "# apply it on ethane\n",
        "featurizer.featurize(\"CC\")"
      ],
      "metadata": {
        "id": "JXtAYRXC8g7m"
      },
      "execution_count": null,
      "outputs": []
    }
  ]
}